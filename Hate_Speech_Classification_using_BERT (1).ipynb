{
  "nbformat": 4,
  "nbformat_minor": 0,
  "metadata": {
    "colab": {
      "provenance": [],
      "gpuType": "T4"
    },
    "kernelspec": {
      "name": "python3",
      "display_name": "Python 3"
    },
    "language_info": {
      "name": "python"
    },
    "accelerator": "GPU",
    "widgets": {
      "application/vnd.jupyter.widget-state+json": {
        "9b17302314d94e4aad213bdb0c5196ee": {
          "model_module": "@jupyter-widgets/controls",
          "model_name": "HBoxModel",
          "model_module_version": "1.5.0",
          "state": {
            "_dom_classes": [],
            "_model_module": "@jupyter-widgets/controls",
            "_model_module_version": "1.5.0",
            "_model_name": "HBoxModel",
            "_view_count": null,
            "_view_module": "@jupyter-widgets/controls",
            "_view_module_version": "1.5.0",
            "_view_name": "HBoxView",
            "box_style": "",
            "children": [
              "IPY_MODEL_173e98c61cc2464cb29e7e26c03eea1f",
              "IPY_MODEL_678bc9a461714cfc88cdf3aedcee9029",
              "IPY_MODEL_2bd536fa1cb245748f8704f8f6906831"
            ],
            "layout": "IPY_MODEL_b2adf65dd7634e66aba7cd9d56e5af21"
          }
        },
        "173e98c61cc2464cb29e7e26c03eea1f": {
          "model_module": "@jupyter-widgets/controls",
          "model_name": "HTMLModel",
          "model_module_version": "1.5.0",
          "state": {
            "_dom_classes": [],
            "_model_module": "@jupyter-widgets/controls",
            "_model_module_version": "1.5.0",
            "_model_name": "HTMLModel",
            "_view_count": null,
            "_view_module": "@jupyter-widgets/controls",
            "_view_module_version": "1.5.0",
            "_view_name": "HTMLView",
            "description": "",
            "description_tooltip": null,
            "layout": "IPY_MODEL_7d1663c879704d338564f5913554e4e7",
            "placeholder": "​",
            "style": "IPY_MODEL_9f5bcacdb30847e0b82dbbdb847e9d25",
            "value": "Map: 100%"
          }
        },
        "678bc9a461714cfc88cdf3aedcee9029": {
          "model_module": "@jupyter-widgets/controls",
          "model_name": "FloatProgressModel",
          "model_module_version": "1.5.0",
          "state": {
            "_dom_classes": [],
            "_model_module": "@jupyter-widgets/controls",
            "_model_module_version": "1.5.0",
            "_model_name": "FloatProgressModel",
            "_view_count": null,
            "_view_module": "@jupyter-widgets/controls",
            "_view_module_version": "1.5.0",
            "_view_name": "ProgressView",
            "bar_style": "success",
            "description": "",
            "description_tooltip": null,
            "layout": "IPY_MODEL_07aac1f8c5d943288c93df5126bcaaa4",
            "max": 500,
            "min": 0,
            "orientation": "horizontal",
            "style": "IPY_MODEL_97421bcfcca04669944bcf41bea04f40",
            "value": 500
          }
        },
        "2bd536fa1cb245748f8704f8f6906831": {
          "model_module": "@jupyter-widgets/controls",
          "model_name": "HTMLModel",
          "model_module_version": "1.5.0",
          "state": {
            "_dom_classes": [],
            "_model_module": "@jupyter-widgets/controls",
            "_model_module_version": "1.5.0",
            "_model_name": "HTMLModel",
            "_view_count": null,
            "_view_module": "@jupyter-widgets/controls",
            "_view_module_version": "1.5.0",
            "_view_name": "HTMLView",
            "description": "",
            "description_tooltip": null,
            "layout": "IPY_MODEL_b85caa93871c4cf49443cb12eadd0d3d",
            "placeholder": "​",
            "style": "IPY_MODEL_f8f57e4761644a478a1896d61161f91c",
            "value": " 500/500 [00:00&lt;00:00, 1866.19 examples/s]"
          }
        },
        "b2adf65dd7634e66aba7cd9d56e5af21": {
          "model_module": "@jupyter-widgets/base",
          "model_name": "LayoutModel",
          "model_module_version": "1.2.0",
          "state": {
            "_model_module": "@jupyter-widgets/base",
            "_model_module_version": "1.2.0",
            "_model_name": "LayoutModel",
            "_view_count": null,
            "_view_module": "@jupyter-widgets/base",
            "_view_module_version": "1.2.0",
            "_view_name": "LayoutView",
            "align_content": null,
            "align_items": null,
            "align_self": null,
            "border": null,
            "bottom": null,
            "display": null,
            "flex": null,
            "flex_flow": null,
            "grid_area": null,
            "grid_auto_columns": null,
            "grid_auto_flow": null,
            "grid_auto_rows": null,
            "grid_column": null,
            "grid_gap": null,
            "grid_row": null,
            "grid_template_areas": null,
            "grid_template_columns": null,
            "grid_template_rows": null,
            "height": null,
            "justify_content": null,
            "justify_items": null,
            "left": null,
            "margin": null,
            "max_height": null,
            "max_width": null,
            "min_height": null,
            "min_width": null,
            "object_fit": null,
            "object_position": null,
            "order": null,
            "overflow": null,
            "overflow_x": null,
            "overflow_y": null,
            "padding": null,
            "right": null,
            "top": null,
            "visibility": null,
            "width": null
          }
        },
        "7d1663c879704d338564f5913554e4e7": {
          "model_module": "@jupyter-widgets/base",
          "model_name": "LayoutModel",
          "model_module_version": "1.2.0",
          "state": {
            "_model_module": "@jupyter-widgets/base",
            "_model_module_version": "1.2.0",
            "_model_name": "LayoutModel",
            "_view_count": null,
            "_view_module": "@jupyter-widgets/base",
            "_view_module_version": "1.2.0",
            "_view_name": "LayoutView",
            "align_content": null,
            "align_items": null,
            "align_self": null,
            "border": null,
            "bottom": null,
            "display": null,
            "flex": null,
            "flex_flow": null,
            "grid_area": null,
            "grid_auto_columns": null,
            "grid_auto_flow": null,
            "grid_auto_rows": null,
            "grid_column": null,
            "grid_gap": null,
            "grid_row": null,
            "grid_template_areas": null,
            "grid_template_columns": null,
            "grid_template_rows": null,
            "height": null,
            "justify_content": null,
            "justify_items": null,
            "left": null,
            "margin": null,
            "max_height": null,
            "max_width": null,
            "min_height": null,
            "min_width": null,
            "object_fit": null,
            "object_position": null,
            "order": null,
            "overflow": null,
            "overflow_x": null,
            "overflow_y": null,
            "padding": null,
            "right": null,
            "top": null,
            "visibility": null,
            "width": null
          }
        },
        "9f5bcacdb30847e0b82dbbdb847e9d25": {
          "model_module": "@jupyter-widgets/controls",
          "model_name": "DescriptionStyleModel",
          "model_module_version": "1.5.0",
          "state": {
            "_model_module": "@jupyter-widgets/controls",
            "_model_module_version": "1.5.0",
            "_model_name": "DescriptionStyleModel",
            "_view_count": null,
            "_view_module": "@jupyter-widgets/base",
            "_view_module_version": "1.2.0",
            "_view_name": "StyleView",
            "description_width": ""
          }
        },
        "07aac1f8c5d943288c93df5126bcaaa4": {
          "model_module": "@jupyter-widgets/base",
          "model_name": "LayoutModel",
          "model_module_version": "1.2.0",
          "state": {
            "_model_module": "@jupyter-widgets/base",
            "_model_module_version": "1.2.0",
            "_model_name": "LayoutModel",
            "_view_count": null,
            "_view_module": "@jupyter-widgets/base",
            "_view_module_version": "1.2.0",
            "_view_name": "LayoutView",
            "align_content": null,
            "align_items": null,
            "align_self": null,
            "border": null,
            "bottom": null,
            "display": null,
            "flex": null,
            "flex_flow": null,
            "grid_area": null,
            "grid_auto_columns": null,
            "grid_auto_flow": null,
            "grid_auto_rows": null,
            "grid_column": null,
            "grid_gap": null,
            "grid_row": null,
            "grid_template_areas": null,
            "grid_template_columns": null,
            "grid_template_rows": null,
            "height": null,
            "justify_content": null,
            "justify_items": null,
            "left": null,
            "margin": null,
            "max_height": null,
            "max_width": null,
            "min_height": null,
            "min_width": null,
            "object_fit": null,
            "object_position": null,
            "order": null,
            "overflow": null,
            "overflow_x": null,
            "overflow_y": null,
            "padding": null,
            "right": null,
            "top": null,
            "visibility": null,
            "width": null
          }
        },
        "97421bcfcca04669944bcf41bea04f40": {
          "model_module": "@jupyter-widgets/controls",
          "model_name": "ProgressStyleModel",
          "model_module_version": "1.5.0",
          "state": {
            "_model_module": "@jupyter-widgets/controls",
            "_model_module_version": "1.5.0",
            "_model_name": "ProgressStyleModel",
            "_view_count": null,
            "_view_module": "@jupyter-widgets/base",
            "_view_module_version": "1.2.0",
            "_view_name": "StyleView",
            "bar_color": null,
            "description_width": ""
          }
        },
        "b85caa93871c4cf49443cb12eadd0d3d": {
          "model_module": "@jupyter-widgets/base",
          "model_name": "LayoutModel",
          "model_module_version": "1.2.0",
          "state": {
            "_model_module": "@jupyter-widgets/base",
            "_model_module_version": "1.2.0",
            "_model_name": "LayoutModel",
            "_view_count": null,
            "_view_module": "@jupyter-widgets/base",
            "_view_module_version": "1.2.0",
            "_view_name": "LayoutView",
            "align_content": null,
            "align_items": null,
            "align_self": null,
            "border": null,
            "bottom": null,
            "display": null,
            "flex": null,
            "flex_flow": null,
            "grid_area": null,
            "grid_auto_columns": null,
            "grid_auto_flow": null,
            "grid_auto_rows": null,
            "grid_column": null,
            "grid_gap": null,
            "grid_row": null,
            "grid_template_areas": null,
            "grid_template_columns": null,
            "grid_template_rows": null,
            "height": null,
            "justify_content": null,
            "justify_items": null,
            "left": null,
            "margin": null,
            "max_height": null,
            "max_width": null,
            "min_height": null,
            "min_width": null,
            "object_fit": null,
            "object_position": null,
            "order": null,
            "overflow": null,
            "overflow_x": null,
            "overflow_y": null,
            "padding": null,
            "right": null,
            "top": null,
            "visibility": null,
            "width": null
          }
        },
        "f8f57e4761644a478a1896d61161f91c": {
          "model_module": "@jupyter-widgets/controls",
          "model_name": "DescriptionStyleModel",
          "model_module_version": "1.5.0",
          "state": {
            "_model_module": "@jupyter-widgets/controls",
            "_model_module_version": "1.5.0",
            "_model_name": "DescriptionStyleModel",
            "_view_count": null,
            "_view_module": "@jupyter-widgets/base",
            "_view_module_version": "1.2.0",
            "_view_name": "StyleView",
            "description_width": ""
          }
        },
        "83dcb6a7058046d4a2b3d03bcbd84fb9": {
          "model_module": "@jupyter-widgets/controls",
          "model_name": "HBoxModel",
          "model_module_version": "1.5.0",
          "state": {
            "_dom_classes": [],
            "_model_module": "@jupyter-widgets/controls",
            "_model_module_version": "1.5.0",
            "_model_name": "HBoxModel",
            "_view_count": null,
            "_view_module": "@jupyter-widgets/controls",
            "_view_module_version": "1.5.0",
            "_view_name": "HBoxView",
            "box_style": "",
            "children": [
              "IPY_MODEL_7d383dd5c8a946d2bb15a8150cf6cd4d",
              "IPY_MODEL_3930a5306f4f439486f4667b80d9a135",
              "IPY_MODEL_e1f4f8ebd8cb4a62ac528552e1c5ff77"
            ],
            "layout": "IPY_MODEL_9b5856d41d9f475f8d7a572bc0aeffcd"
          }
        },
        "7d383dd5c8a946d2bb15a8150cf6cd4d": {
          "model_module": "@jupyter-widgets/controls",
          "model_name": "HTMLModel",
          "model_module_version": "1.5.0",
          "state": {
            "_dom_classes": [],
            "_model_module": "@jupyter-widgets/controls",
            "_model_module_version": "1.5.0",
            "_model_name": "HTMLModel",
            "_view_count": null,
            "_view_module": "@jupyter-widgets/controls",
            "_view_module_version": "1.5.0",
            "_view_name": "HTMLView",
            "description": "",
            "description_tooltip": null,
            "layout": "IPY_MODEL_6d0a5c2e70284daeac9f82162495b232",
            "placeholder": "​",
            "style": "IPY_MODEL_7e052dab60e14f4585eee8c60c8aa1c6",
            "value": "Map: 100%"
          }
        },
        "3930a5306f4f439486f4667b80d9a135": {
          "model_module": "@jupyter-widgets/controls",
          "model_name": "FloatProgressModel",
          "model_module_version": "1.5.0",
          "state": {
            "_dom_classes": [],
            "_model_module": "@jupyter-widgets/controls",
            "_model_module_version": "1.5.0",
            "_model_name": "FloatProgressModel",
            "_view_count": null,
            "_view_module": "@jupyter-widgets/controls",
            "_view_module_version": "1.5.0",
            "_view_name": "ProgressView",
            "bar_style": "success",
            "description": "",
            "description_tooltip": null,
            "layout": "IPY_MODEL_6942b3a7d44d450c9ec2ef563392f498",
            "max": 200,
            "min": 0,
            "orientation": "horizontal",
            "style": "IPY_MODEL_147a1bd0720a4a0cb4c246cba6697b96",
            "value": 200
          }
        },
        "e1f4f8ebd8cb4a62ac528552e1c5ff77": {
          "model_module": "@jupyter-widgets/controls",
          "model_name": "HTMLModel",
          "model_module_version": "1.5.0",
          "state": {
            "_dom_classes": [],
            "_model_module": "@jupyter-widgets/controls",
            "_model_module_version": "1.5.0",
            "_model_name": "HTMLModel",
            "_view_count": null,
            "_view_module": "@jupyter-widgets/controls",
            "_view_module_version": "1.5.0",
            "_view_name": "HTMLView",
            "description": "",
            "description_tooltip": null,
            "layout": "IPY_MODEL_858e4587473040368e90379039355214",
            "placeholder": "​",
            "style": "IPY_MODEL_c9361a72e0e54261a32223fb69d0cf8d",
            "value": " 200/200 [00:00&lt;00:00, 1428.54 examples/s]"
          }
        },
        "9b5856d41d9f475f8d7a572bc0aeffcd": {
          "model_module": "@jupyter-widgets/base",
          "model_name": "LayoutModel",
          "model_module_version": "1.2.0",
          "state": {
            "_model_module": "@jupyter-widgets/base",
            "_model_module_version": "1.2.0",
            "_model_name": "LayoutModel",
            "_view_count": null,
            "_view_module": "@jupyter-widgets/base",
            "_view_module_version": "1.2.0",
            "_view_name": "LayoutView",
            "align_content": null,
            "align_items": null,
            "align_self": null,
            "border": null,
            "bottom": null,
            "display": null,
            "flex": null,
            "flex_flow": null,
            "grid_area": null,
            "grid_auto_columns": null,
            "grid_auto_flow": null,
            "grid_auto_rows": null,
            "grid_column": null,
            "grid_gap": null,
            "grid_row": null,
            "grid_template_areas": null,
            "grid_template_columns": null,
            "grid_template_rows": null,
            "height": null,
            "justify_content": null,
            "justify_items": null,
            "left": null,
            "margin": null,
            "max_height": null,
            "max_width": null,
            "min_height": null,
            "min_width": null,
            "object_fit": null,
            "object_position": null,
            "order": null,
            "overflow": null,
            "overflow_x": null,
            "overflow_y": null,
            "padding": null,
            "right": null,
            "top": null,
            "visibility": null,
            "width": null
          }
        },
        "6d0a5c2e70284daeac9f82162495b232": {
          "model_module": "@jupyter-widgets/base",
          "model_name": "LayoutModel",
          "model_module_version": "1.2.0",
          "state": {
            "_model_module": "@jupyter-widgets/base",
            "_model_module_version": "1.2.0",
            "_model_name": "LayoutModel",
            "_view_count": null,
            "_view_module": "@jupyter-widgets/base",
            "_view_module_version": "1.2.0",
            "_view_name": "LayoutView",
            "align_content": null,
            "align_items": null,
            "align_self": null,
            "border": null,
            "bottom": null,
            "display": null,
            "flex": null,
            "flex_flow": null,
            "grid_area": null,
            "grid_auto_columns": null,
            "grid_auto_flow": null,
            "grid_auto_rows": null,
            "grid_column": null,
            "grid_gap": null,
            "grid_row": null,
            "grid_template_areas": null,
            "grid_template_columns": null,
            "grid_template_rows": null,
            "height": null,
            "justify_content": null,
            "justify_items": null,
            "left": null,
            "margin": null,
            "max_height": null,
            "max_width": null,
            "min_height": null,
            "min_width": null,
            "object_fit": null,
            "object_position": null,
            "order": null,
            "overflow": null,
            "overflow_x": null,
            "overflow_y": null,
            "padding": null,
            "right": null,
            "top": null,
            "visibility": null,
            "width": null
          }
        },
        "7e052dab60e14f4585eee8c60c8aa1c6": {
          "model_module": "@jupyter-widgets/controls",
          "model_name": "DescriptionStyleModel",
          "model_module_version": "1.5.0",
          "state": {
            "_model_module": "@jupyter-widgets/controls",
            "_model_module_version": "1.5.0",
            "_model_name": "DescriptionStyleModel",
            "_view_count": null,
            "_view_module": "@jupyter-widgets/base",
            "_view_module_version": "1.2.0",
            "_view_name": "StyleView",
            "description_width": ""
          }
        },
        "6942b3a7d44d450c9ec2ef563392f498": {
          "model_module": "@jupyter-widgets/base",
          "model_name": "LayoutModel",
          "model_module_version": "1.2.0",
          "state": {
            "_model_module": "@jupyter-widgets/base",
            "_model_module_version": "1.2.0",
            "_model_name": "LayoutModel",
            "_view_count": null,
            "_view_module": "@jupyter-widgets/base",
            "_view_module_version": "1.2.0",
            "_view_name": "LayoutView",
            "align_content": null,
            "align_items": null,
            "align_self": null,
            "border": null,
            "bottom": null,
            "display": null,
            "flex": null,
            "flex_flow": null,
            "grid_area": null,
            "grid_auto_columns": null,
            "grid_auto_flow": null,
            "grid_auto_rows": null,
            "grid_column": null,
            "grid_gap": null,
            "grid_row": null,
            "grid_template_areas": null,
            "grid_template_columns": null,
            "grid_template_rows": null,
            "height": null,
            "justify_content": null,
            "justify_items": null,
            "left": null,
            "margin": null,
            "max_height": null,
            "max_width": null,
            "min_height": null,
            "min_width": null,
            "object_fit": null,
            "object_position": null,
            "order": null,
            "overflow": null,
            "overflow_x": null,
            "overflow_y": null,
            "padding": null,
            "right": null,
            "top": null,
            "visibility": null,
            "width": null
          }
        },
        "147a1bd0720a4a0cb4c246cba6697b96": {
          "model_module": "@jupyter-widgets/controls",
          "model_name": "ProgressStyleModel",
          "model_module_version": "1.5.0",
          "state": {
            "_model_module": "@jupyter-widgets/controls",
            "_model_module_version": "1.5.0",
            "_model_name": "ProgressStyleModel",
            "_view_count": null,
            "_view_module": "@jupyter-widgets/base",
            "_view_module_version": "1.2.0",
            "_view_name": "StyleView",
            "bar_color": null,
            "description_width": ""
          }
        },
        "858e4587473040368e90379039355214": {
          "model_module": "@jupyter-widgets/base",
          "model_name": "LayoutModel",
          "model_module_version": "1.2.0",
          "state": {
            "_model_module": "@jupyter-widgets/base",
            "_model_module_version": "1.2.0",
            "_model_name": "LayoutModel",
            "_view_count": null,
            "_view_module": "@jupyter-widgets/base",
            "_view_module_version": "1.2.0",
            "_view_name": "LayoutView",
            "align_content": null,
            "align_items": null,
            "align_self": null,
            "border": null,
            "bottom": null,
            "display": null,
            "flex": null,
            "flex_flow": null,
            "grid_area": null,
            "grid_auto_columns": null,
            "grid_auto_flow": null,
            "grid_auto_rows": null,
            "grid_column": null,
            "grid_gap": null,
            "grid_row": null,
            "grid_template_areas": null,
            "grid_template_columns": null,
            "grid_template_rows": null,
            "height": null,
            "justify_content": null,
            "justify_items": null,
            "left": null,
            "margin": null,
            "max_height": null,
            "max_width": null,
            "min_height": null,
            "min_width": null,
            "object_fit": null,
            "object_position": null,
            "order": null,
            "overflow": null,
            "overflow_x": null,
            "overflow_y": null,
            "padding": null,
            "right": null,
            "top": null,
            "visibility": null,
            "width": null
          }
        },
        "c9361a72e0e54261a32223fb69d0cf8d": {
          "model_module": "@jupyter-widgets/controls",
          "model_name": "DescriptionStyleModel",
          "model_module_version": "1.5.0",
          "state": {
            "_model_module": "@jupyter-widgets/controls",
            "_model_module_version": "1.5.0",
            "_model_name": "DescriptionStyleModel",
            "_view_count": null,
            "_view_module": "@jupyter-widgets/base",
            "_view_module_version": "1.2.0",
            "_view_name": "StyleView",
            "description_width": ""
          }
        }
      }
    }
  },
  "cells": [
    {
      "cell_type": "code",
      "source": [
        "# Install or upgrade the 'datasets' library\n",
        "!pip install -U datasets"
      ],
      "metadata": {
        "colab": {
          "base_uri": "https://localhost:8080/"
        },
        "collapsed": true,
        "id": "GUoktLYGPQCw",
        "outputId": "29da8773-78e2-4534-c3bd-7ce95910100e"
      },
      "execution_count": 45,
      "outputs": [
        {
          "output_type": "stream",
          "name": "stdout",
          "text": [
            "Requirement already satisfied: datasets in /usr/local/lib/python3.11/dist-packages (4.0.0)\n",
            "Requirement already satisfied: filelock in /usr/local/lib/python3.11/dist-packages (from datasets) (3.18.0)\n",
            "Requirement already satisfied: numpy>=1.17 in /usr/local/lib/python3.11/dist-packages (from datasets) (2.0.2)\n",
            "Requirement already satisfied: pyarrow>=15.0.0 in /usr/local/lib/python3.11/dist-packages (from datasets) (18.1.0)\n",
            "Requirement already satisfied: dill<0.3.9,>=0.3.0 in /usr/local/lib/python3.11/dist-packages (from datasets) (0.3.7)\n",
            "Requirement already satisfied: pandas in /usr/local/lib/python3.11/dist-packages (from datasets) (2.2.2)\n",
            "Requirement already satisfied: requests>=2.32.2 in /usr/local/lib/python3.11/dist-packages (from datasets) (2.32.3)\n",
            "Requirement already satisfied: tqdm>=4.66.3 in /usr/local/lib/python3.11/dist-packages (from datasets) (4.67.1)\n",
            "Requirement already satisfied: xxhash in /usr/local/lib/python3.11/dist-packages (from datasets) (3.5.0)\n",
            "Requirement already satisfied: multiprocess<0.70.17 in /usr/local/lib/python3.11/dist-packages (from datasets) (0.70.15)\n",
            "Requirement already satisfied: fsspec<=2025.3.0,>=2023.1.0 in /usr/local/lib/python3.11/dist-packages (from fsspec[http]<=2025.3.0,>=2023.1.0->datasets) (2025.3.0)\n",
            "Requirement already satisfied: huggingface-hub>=0.24.0 in /usr/local/lib/python3.11/dist-packages (from datasets) (0.33.2)\n",
            "Requirement already satisfied: packaging in /usr/local/lib/python3.11/dist-packages (from datasets) (24.2)\n",
            "Requirement already satisfied: pyyaml>=5.1 in /usr/local/lib/python3.11/dist-packages (from datasets) (6.0.2)\n",
            "Requirement already satisfied: aiohttp!=4.0.0a0,!=4.0.0a1 in /usr/local/lib/python3.11/dist-packages (from fsspec[http]<=2025.3.0,>=2023.1.0->datasets) (3.11.15)\n",
            "Requirement already satisfied: typing-extensions>=3.7.4.3 in /usr/local/lib/python3.11/dist-packages (from huggingface-hub>=0.24.0->datasets) (4.14.1)\n",
            "Requirement already satisfied: hf-xet<2.0.0,>=1.1.2 in /usr/local/lib/python3.11/dist-packages (from huggingface-hub>=0.24.0->datasets) (1.1.5)\n",
            "Requirement already satisfied: charset-normalizer<4,>=2 in /usr/local/lib/python3.11/dist-packages (from requests>=2.32.2->datasets) (3.4.2)\n",
            "Requirement already satisfied: idna<4,>=2.5 in /usr/local/lib/python3.11/dist-packages (from requests>=2.32.2->datasets) (3.10)\n",
            "Requirement already satisfied: urllib3<3,>=1.21.1 in /usr/local/lib/python3.11/dist-packages (from requests>=2.32.2->datasets) (2.4.0)\n",
            "Requirement already satisfied: certifi>=2017.4.17 in /usr/local/lib/python3.11/dist-packages (from requests>=2.32.2->datasets) (2025.6.15)\n",
            "Requirement already satisfied: python-dateutil>=2.8.2 in /usr/local/lib/python3.11/dist-packages (from pandas->datasets) (2.9.0.post0)\n",
            "Requirement already satisfied: pytz>=2020.1 in /usr/local/lib/python3.11/dist-packages (from pandas->datasets) (2025.2)\n",
            "Requirement already satisfied: tzdata>=2022.7 in /usr/local/lib/python3.11/dist-packages (from pandas->datasets) (2025.2)\n",
            "Requirement already satisfied: aiohappyeyeballs>=2.3.0 in /usr/local/lib/python3.11/dist-packages (from aiohttp!=4.0.0a0,!=4.0.0a1->fsspec[http]<=2025.3.0,>=2023.1.0->datasets) (2.6.1)\n",
            "Requirement already satisfied: aiosignal>=1.1.2 in /usr/local/lib/python3.11/dist-packages (from aiohttp!=4.0.0a0,!=4.0.0a1->fsspec[http]<=2025.3.0,>=2023.1.0->datasets) (1.4.0)\n",
            "Requirement already satisfied: attrs>=17.3.0 in /usr/local/lib/python3.11/dist-packages (from aiohttp!=4.0.0a0,!=4.0.0a1->fsspec[http]<=2025.3.0,>=2023.1.0->datasets) (25.3.0)\n",
            "Requirement already satisfied: frozenlist>=1.1.1 in /usr/local/lib/python3.11/dist-packages (from aiohttp!=4.0.0a0,!=4.0.0a1->fsspec[http]<=2025.3.0,>=2023.1.0->datasets) (1.7.0)\n",
            "Requirement already satisfied: multidict<7.0,>=4.5 in /usr/local/lib/python3.11/dist-packages (from aiohttp!=4.0.0a0,!=4.0.0a1->fsspec[http]<=2025.3.0,>=2023.1.0->datasets) (6.6.3)\n",
            "Requirement already satisfied: propcache>=0.2.0 in /usr/local/lib/python3.11/dist-packages (from aiohttp!=4.0.0a0,!=4.0.0a1->fsspec[http]<=2025.3.0,>=2023.1.0->datasets) (0.3.2)\n",
            "Requirement already satisfied: yarl<2.0,>=1.17.0 in /usr/local/lib/python3.11/dist-packages (from aiohttp!=4.0.0a0,!=4.0.0a1->fsspec[http]<=2025.3.0,>=2023.1.0->datasets) (1.20.1)\n",
            "Requirement already satisfied: six>=1.5 in /usr/local/lib/python3.11/dist-packages (from python-dateutil>=2.8.2->pandas->datasets) (1.17.0)\n"
          ]
        }
      ]
    },
    {
      "cell_type": "code",
      "execution_count": 46,
      "metadata": {
        "collapsed": true,
        "id": "HUznEpw-PFvP"
      },
      "outputs": [],
      "source": [
        "import polars as pl\n",
        "import pandas\n",
        "from datasets import Dataset\n",
        "\n",
        "# Load the dataset from a parquet file hosted on the Hugging Face Hub using polars\n",
        "df = pl.read_parquet('hf://datasets/Intuit-GenSRF/hate-speech18-es/data/train-00000-of-00001-3075deaca2ec2f5b.parquet')\n",
        "\n",
        "# Convert the polars DataFrame to a pandas DataFrame\n",
        "df = df.to_pandas()\n",
        "\n",
        "# Convert the pandas DataFrame to a Hugging Face Dataset object\n",
        "hate = Dataset.from_pandas(df)"
      ]
    },
    {
      "cell_type": "code",
      "source": [
        "# Print the column names of the dataset\n",
        "print(hate.column_names)\n",
        "\n",
        "# Print the total number of examples in the dataset\n",
        "print(len(hate))\n",
        "\n",
        "# Print the first example in the dataset\n",
        "print(hate[0])"
      ],
      "metadata": {
        "colab": {
          "base_uri": "https://localhost:8080/"
        },
        "id": "zPkCNTvQPtJD",
        "outputId": "0cbb6cab-cec7-4155-f95e-fafd2aa11457"
      },
      "execution_count": 47,
      "outputs": [
        {
          "output_type": "stream",
          "name": "stdout",
          "text": [
            "['text', 'user_id', 'subforum_id', 'num_contexts', 'labels', 'processed_text', 'text_es']\n",
            "10944\n",
            "{'text': 'As of March 13th , 2014 , the booklet had been downloaded over 18,300 times and counting .', 'user_id': 572066, 'subforum_id': 1346, 'num_contexts': 0, 'labels': [], 'processed_text': ['As of March 13th , 2014 , the booklet had been downloaded over 18,300 times and counting .'], 'text_es': 'Al 13 de marzo de 2014 , el folleto había sido descargado más de 18.300 veces y contando .'}\n"
          ]
        }
      ]
    },
    {
      "cell_type": "code",
      "source": [
        "import random\n",
        "from datasets import concatenate_datasets\n",
        "\n",
        "# Shuffle the original dataset and select the first 500 examples to create a smaller subset\n",
        "small_hate = hate.shuffle(seed=42).select(range(500))\n",
        "\n",
        "# Define a function to convert the 'labels' column (list of strings) to a binary label (0 or 1)\n",
        "# If the 'labels' list is not empty, the label is 1 (hate speech), otherwise it's 0 (not hate speech)\n",
        "def to_binary(example):\n",
        "    return {\"text\": example[\"text\"], \"label\": 1 if example[\"labels\"] else 0}\n",
        "\n",
        "# Apply the to_binary function to the small_hate dataset to create a new dataset with binary labels\n",
        "# Remove the original columns except 'text' and the new 'label' column\n",
        "binary_hate = small_hate.map(to_binary, remove_columns=[c for c in small_hate.column_names if c not in (\"text\",\"label\")])\n",
        "\n",
        "# Get the indices of examples with label 1 (hate speech)\n",
        "idx_pos = [i for i, ex in enumerate(binary_hate) if ex[\"label\"] == 1]\n",
        "\n",
        "# Get the indices of examples with label 0 (not hate speech)\n",
        "idx_neg = [i for i, ex in enumerate(binary_hate) if ex[\"label\"] == 0]\n",
        "\n",
        "# Define a function to sample indices from a list, with replacement if the list is smaller than the desired sample size\n",
        "def sample_indices(idxs, n):\n",
        "    if len(idxs) >= n:\n",
        "        return random.sample(idxs, n)\n",
        "    else:\n",
        "        return [random.choice(idxs) for _ in range(n)]\n",
        "\n",
        "# Sample 500 indices from the positive examples (with replacement if less than 100 positive examples)\n",
        "sampled_pos = sample_indices(idx_pos, 100)\n",
        "\n",
        "# Sample 500 indices from the negative examples (with replacement if less than 100 negative examples)\n",
        "sampled_neg = sample_indices(idx_neg, 100)\n",
        "\n",
        "# Select the examples corresponding to the sampled indices for both positive and negative classes\n",
        "ds_pos = binary_hate.select(sampled_pos)\n",
        "ds_neg = binary_hate.select(sampled_neg)\n",
        "\n",
        "# Concatenate the positive and negative datasets and shuffle them to create a balanced dataset\n",
        "balanced = concatenate_datasets([ds_pos, ds_neg]).shuffle(seed=42)\n",
        "\n",
        "# Import Counter from collections to count the occurrences of each label\n",
        "from collections import Counter\n",
        "\n",
        "# Print the distribution of labels in the balanced dataset\n",
        "print(Counter(balanced[\"label\"]))"
      ],
      "metadata": {
        "colab": {
          "base_uri": "https://localhost:8080/",
          "height": 66,
          "referenced_widgets": [
            "9b17302314d94e4aad213bdb0c5196ee",
            "173e98c61cc2464cb29e7e26c03eea1f",
            "678bc9a461714cfc88cdf3aedcee9029",
            "2bd536fa1cb245748f8704f8f6906831",
            "b2adf65dd7634e66aba7cd9d56e5af21",
            "7d1663c879704d338564f5913554e4e7",
            "9f5bcacdb30847e0b82dbbdb847e9d25",
            "07aac1f8c5d943288c93df5126bcaaa4",
            "97421bcfcca04669944bcf41bea04f40",
            "b85caa93871c4cf49443cb12eadd0d3d",
            "f8f57e4761644a478a1896d61161f91c"
          ]
        },
        "id": "6AlrDsEYQyLH",
        "outputId": "deb76a78-8243-40ad-9b00-b3b86fc6a463"
      },
      "execution_count": 48,
      "outputs": [
        {
          "output_type": "display_data",
          "data": {
            "text/plain": [
              "Map:   0%|          | 0/500 [00:00<?, ? examples/s]"
            ],
            "application/vnd.jupyter.widget-view+json": {
              "version_major": 2,
              "version_minor": 0,
              "model_id": "9b17302314d94e4aad213bdb0c5196ee"
            }
          },
          "metadata": {}
        },
        {
          "output_type": "stream",
          "name": "stdout",
          "text": [
            "Counter({0: 100, 1: 100})\n"
          ]
        }
      ]
    },
    {
      "cell_type": "code",
      "metadata": {
        "colab": {
          "base_uri": "https://localhost:8080/",
          "height": 489
        },
        "id": "3f2f9200",
        "outputId": "101b6f3d-ac59-4c20-88ba-daabea3b681c"
      },
      "source": [
        "from collections import Counter\n",
        "import matplotlib.pyplot as plt\n",
        "\n",
        "# Count the occurrences of each label in the balanced dataset\n",
        "label_counts = Counter(balanced[\"label\"])\n",
        "\n",
        "# Print the label distribution\n",
        "print(\"Label distribution in the balanced dataset:\", label_counts)\n",
        "\n",
        "# Create a bar plot to visualize the label distribution\n",
        "plt.bar(label_counts.keys(), label_counts.values())\n",
        "\n",
        "# Set the x-axis tick labels to be more descriptive\n",
        "plt.xticks([0, 1], ['Not Hate Speech (0)', 'Hate Speech (1)'])\n",
        "\n",
        "# Set the x-axis label\n",
        "plt.xlabel(\"Label\")\n",
        "\n",
        "# Set the y-axis label\n",
        "plt.ylabel(\"Count\")\n",
        "\n",
        "# Set the title of the plot\n",
        "plt.title(\"Distribution of Labels in Balanced Dataset\")\n",
        "\n",
        "# Display the plot\n",
        "plt.show()"
      ],
      "execution_count": 49,
      "outputs": [
        {
          "output_type": "stream",
          "name": "stdout",
          "text": [
            "Label distribution in the balanced dataset: Counter({0: 100, 1: 100})\n"
          ]
        },
        {
          "output_type": "display_data",
          "data": {
            "text/plain": [
              "<Figure size 640x480 with 1 Axes>"
            ],
            "image/png": "[encoded data removed]"
          },
          "metadata": {}
        }
      ]
    },
    {
      "cell_type": "code",
      "source": [
        "from transformers import AutoTokenizer\n",
        "from torch.utils.data import DataLoader\n",
        "\n",
        "# Load the tokenizer for the 'bert-base-uncased' model\n",
        "tokenizer = AutoTokenizer.from_pretrained(\"bert-base-uncased\")\n",
        "\n",
        "# Define a function to tokenize a batch of text examples\n",
        "def tokenize_batch(batch):\n",
        "    return tokenizer(\n",
        "        batch[\"text\"],       # Input text to tokenize\n",
        "        padding=\"max_length\", # Pad sequences to the maximum length\n",
        "        truncation=True,      # Truncate sequences longer than max_length\n",
        "        max_length=128        # Set the maximum sequence length\n",
        "    )\n",
        "\n",
        "# Apply the tokenization function to the balanced dataset\n",
        "tokenized = balanced.map(tokenize_batch, batched=True)\n",
        "\n",
        "# Set the format of the dataset to PyTorch tensors for specific columns\n",
        "tokenized.set_format(\"torch\", columns=[\"input_ids\", \"attention_mask\", \"label\"])\n",
        "\n",
        "# Create a DataLoader for the tokenized dataset for training\n",
        "# Batch size is 16, and data is shuffled\n",
        "train_loader = DataLoader(tokenized, batch_size=16, shuffle=True)\n",
        "\n",
        "# Get the first batch from the DataLoader\n",
        "batch = next(iter(train_loader))\n",
        "\n",
        "# Print the shapes of the tensors in the batch\n",
        "print({k: v.shape for k, v in batch.items()})"
      ],
      "metadata": {
        "colab": {
          "base_uri": "https://localhost:8080/",
          "height": 66,
          "referenced_widgets": [
            "83dcb6a7058046d4a2b3d03bcbd84fb9",
            "7d383dd5c8a946d2bb15a8150cf6cd4d",
            "3930a5306f4f439486f4667b80d9a135",
            "e1f4f8ebd8cb4a62ac528552e1c5ff77",
            "9b5856d41d9f475f8d7a572bc0aeffcd",
            "6d0a5c2e70284daeac9f82162495b232",
            "7e052dab60e14f4585eee8c60c8aa1c6",
            "6942b3a7d44d450c9ec2ef563392f498",
            "147a1bd0720a4a0cb4c246cba6697b96",
            "858e4587473040368e90379039355214",
            "c9361a72e0e54261a32223fb69d0cf8d"
          ]
        },
        "id": "5uFqZxREQ7_D",
        "outputId": "fae4b125-e0e1-4bd7-ad55-7a6a56fa6e6d"
      },
      "execution_count": 50,
      "outputs": [
        {
          "output_type": "display_data",
          "data": {
            "text/plain": [
              "Map:   0%|          | 0/200 [00:00<?, ? examples/s]"
            ],
            "application/vnd.jupyter.widget-view+json": {
              "version_major": 2,
              "version_minor": 0,
              "model_id": "83dcb6a7058046d4a2b3d03bcbd84fb9"
            }
          },
          "metadata": {}
        },
        {
          "output_type": "stream",
          "name": "stdout",
          "text": [
            "{'label': torch.Size([16]), 'input_ids': torch.Size([16, 128]), 'attention_mask': torch.Size([16, 128])}\n"
          ]
        }
      ]
    },
    {
      "cell_type": "code",
      "metadata": {
        "colab": {
          "base_uri": "https://localhost:8080/",
          "height": 472
        },
        "id": "75754e25",
        "outputId": "4988b661-7e13-49ff-8d63-301b2b8570b5"
      },
      "source": [
        "import matplotlib.pyplot as plt\n",
        "\n",
        "# Calculate the length of each text example in tokens using the tokenizer\n",
        "text_lengths = [len(tokenizer.encode(example[\"text\"])) for example in balanced]\n",
        "\n",
        "# Create a histogram to visualize the distribution of text lengths\n",
        "plt.hist(text_lengths, bins=50)\n",
        "\n",
        "# Set the x-axis label\n",
        "plt.xlabel(\"Text Length (tokens)\")\n",
        "\n",
        "# Set the y-axis label\n",
        "plt.ylabel(\"Frequency\")\n",
        "\n",
        "# Set the title of the plot\n",
        "plt.title(\"Distribution of Text Lengths\")\n",
        "\n",
        "# Display the plot\n",
        "plt.show()"
      ],
      "execution_count": 51,
      "outputs": [
        {
          "output_type": "display_data",
          "data": {
            "text/plain": [
              "<Figure size 640x480 with 1 Axes>"
            ],
            "image/png": "[encoded data removed]"
          },
          "metadata": {}
        }
      ]
    },
    {
      "cell_type": "code",
      "metadata": {
        "colab": {
          "base_uri": "https://localhost:8080/"
        },
        "id": "9cd840b3",
        "outputId": "1011e390-3dca-4a71-9c79-0a75565f46aa"
      },
      "source": [
        "from collections import Counter\n",
        "import nltk\n",
        "from nltk.corpus import stopwords\n",
        "import pandas as pd\n",
        "\n",
        "# Download the stopwords corpus from NLTK\n",
        "nltk.download('stopwords')\n",
        "\n",
        "# Get the set of English stop words\n",
        "stop_words = set(stopwords.words('english'))\n",
        "\n",
        "# Define a function to get the most common words for a given label in the dataset\n",
        "def get_most_common_words(dataset, label, num_words=20):\n",
        "    # Join all text examples for the given label into a single string\n",
        "    text_for_label = \" \".join([example[\"text\"] for example in dataset if example[\"label\"] == label])\n",
        "\n",
        "    # Convert the text to lowercase and split it into words\n",
        "    words = text_for_label.lower().split()\n",
        "\n",
        "    # Filter out non-alphabetic words and stop words\n",
        "    words = [word for word in words if word.isalpha() and word not in stop_words]\n",
        "\n",
        "    # Count the frequency of each word\n",
        "    word_counts = Counter(words)\n",
        "\n",
        "    # Return the most common words and their counts\n",
        "    return word_counts.most_common(num_words)\n",
        "\n",
        "# Get the most common words for the 'Not Hate Speech' label (0)\n",
        "common_words_neg = get_most_common_words(balanced, 0)\n",
        "\n",
        "# Get the most common words for the 'Hate Speech' label (1)\n",
        "common_words_pos = get_most_common_words(balanced, 1)\n",
        "\n",
        "# Print the most common words for the 'Not Hate Speech' label\n",
        "print(\"Most common words in 'Not Hate Speech' (Label 0):\")\n",
        "for word, count in common_words_neg:\n",
        "    print(f\"{word}: {count}\")\n",
        "\n",
        "# Print the most common words for the 'Hate Speech' label\n",
        "print(\"\\nMost common words in 'Hate Speech' (Label 1):\")\n",
        "for word, count in common_words_pos:\n",
        "    print(f\"{word}: {count}\")"
      ],
      "execution_count": 52,
      "outputs": [
        {
          "output_type": "stream",
          "name": "stdout",
          "text": [
            "Most common words in 'Not Hate Speech' (Label 0):\n",
            "like: 11\n",
            "white: 11\n",
            "see: 8\n",
            "go: 7\n",
            "last: 6\n",
            "people: 6\n",
            "school: 6\n",
            "well: 5\n",
            "think: 5\n",
            "give: 4\n",
            "shows: 4\n",
            "youtube: 4\n",
            "would: 4\n",
            "kids: 4\n",
            "get: 4\n",
            "coming: 4\n",
            "always: 4\n",
            "pick: 3\n",
            "much: 3\n",
            "show: 3\n",
            "\n",
            "Most common words in 'Hate Speech' (Label 1):\n",
            "sweden: 43\n",
            "https: 35\n",
            "ghlight: 35\n",
            "madex: 21\n",
            "breed: 17\n",
            "like: 16\n",
            "make: 15\n",
            "black: 12\n",
            "blacks: 9\n",
            "plymouth: 9\n",
            "people: 9\n",
            "put: 8\n",
            "prison: 8\n",
            "yes: 7\n",
            "muslims: 7\n",
            "vermin: 7\n",
            "believe: 7\n",
            "part: 7\n",
            "intention: 7\n",
            "races: 7\n"
          ]
        },
        {
          "output_type": "stream",
          "name": "stderr",
          "text": [
            "[nltk_data] Downloading package stopwords to /root/nltk_data...\n",
            "[nltk_data]   Package stopwords is already up-to-date!\n"
          ]
        }
      ]
    },
    {
      "cell_type": "code",
      "metadata": {
        "colab": {
          "base_uri": "https://localhost:8080/",
          "height": 1000
        },
        "id": "62ee3b45",
        "outputId": "65a8542b-9c5c-448a-9a44-b4286381643b"
      },
      "source": [
        "import matplotlib.pyplot as plt\n",
        "import pandas as pd\n",
        "\n",
        "# Create a pandas DataFrame from the common words and counts for the negative class\n",
        "df_neg = pd.DataFrame(common_words_neg, columns=['word', 'count'])\n",
        "\n",
        "# Create a pandas DataFrame from the common words and counts for the positive class\n",
        "df_pos = pd.DataFrame(common_words_pos, columns=['word', 'count'])\n",
        "\n",
        "# Create a figure and axes for the first plot (Not Hate Speech)\n",
        "plt.figure(figsize=(10, 6))\n",
        "\n",
        "# Create a bar plot of the most common words for the negative class\n",
        "plt.bar(df_neg['word'], df_neg['count'])\n",
        "\n",
        "# Rotate the x-axis labels for better readability\n",
        "plt.xticks(rotation=45, ha='right')\n",
        "\n",
        "# Set the x-axis label\n",
        "plt.xlabel(\"Word\")\n",
        "\n",
        "# Set the y-axis label\n",
        "plt.ylabel(\"Frequency\")\n",
        "\n",
        "# Set the title of the plot\n",
        "plt.title(\"Most Common Words in 'Not Hate Speech'\")\n",
        "\n",
        "# Adjust layout to prevent labels from overlapping\n",
        "plt.tight_layout()\n",
        "\n",
        "# Display the plot\n",
        "plt.show()\n",
        "\n",
        "# Create a figure and axes for the second plot (Hate Speech)\n",
        "plt.figure(figsize=(10, 6))\n",
        "\n",
        "# Create a bar plot of the most common words for the positive class with orange color\n",
        "plt.bar(df_pos['word'], df_pos['count'], color='orange')\n",
        "\n",
        "# Rotate the x-axis labels for better readability\n",
        "plt.xticks(rotation=45, ha='right')\n",
        "\n",
        "# Set the x-axis label\n",
        "plt.xlabel(\"Word\")\n",
        "\n",
        "# Set the y-axis label\n",
        "plt.ylabel(\"Frequency\")\n",
        "\n",
        "# Set the title of the plot\n",
        "plt.title(\"Most Common Words in 'Hate Speech'\")\n",
        "\n",
        "# Adjust layout to prevent labels from overlapping\n",
        "plt.tight_layout()\n",
        "\n",
        "# Display the plot\n",
        "plt.show()"
      ],
      "execution_count": 53,
      "outputs": [
        {
          "output_type": "display_data",
          "data": {
            "text/plain": [
              "<Figure size 1000x600 with 1 Axes>"
            ],
            "image/png": "[encoded data removed]"
          },
          "metadata": {}
        },
        {
          "output_type": "display_data",
          "data": {
            "text/plain": [
              "<Figure size 1000x600 with 1 Axes>"
            ],
            "image/png": "[encoded data removed]"
          },
          "metadata": {}
        }
      ]
    },
    {
      "cell_type": "code",
      "metadata": {
        "colab": {
          "base_uri": "https://localhost:8080/",
          "height": 182
        },
        "id": "643b5c48",
        "outputId": "f3154a4c-357d-488d-dc55-93c1f48b0287"
      },
      "source": [
        "from transformers import (\n",
        "    AutoModelForSequenceClassification,\n",
        "    Trainer,\n",
        "    TrainingArguments,\n",
        ")\n",
        "import numpy as np\n",
        "from sklearn.metrics import accuracy_score, f1_score, precision_score, recall_score\n",
        "\n",
        "# Load the pre-trained BERT model for sequence classification\n",
        "# Specify the number of labels (2 for binary classification)\n",
        "model = AutoModelForSequenceClassification.from_pretrained(\n",
        "    \"bert-base-uncased\",\n",
        "    num_labels=2\n",
        ")\n",
        "\n",
        "# Define a function to compute evaluation metrics\n",
        "def compute_metrics(eval_pred):\n",
        "    # Get logits and true labels from the evaluation predictions\n",
        "    logits, labels = eval_pred\n",
        "\n",
        "    # Get the predicted class by finding the index of the maximum logit\n",
        "    preds = np.argmax(logits, axis=-1)\n",
        "\n",
        "    # Calculate and return accuracy, F1 score, precision, and recall\n",
        "    return {\n",
        "        \"accuracy\": accuracy_score(labels, preds),\n",
        "        \"f1\": f1_score(labels, preds, average=\"binary\"), # Use binary average for binary classification\n",
        "        \"precision\": precision_score(labels, preds),\n",
        "        \"recall\": recall_score(labels, preds),\n",
        "    }\n",
        "\n",
        "# Define the training arguments for the Trainer\n",
        "training_args = TrainingArguments(\n",
        "    output_dir=\"./results\",              # Directory to save the model checkpoints and outputs\n",
        "    num_train_epochs=3,                 # Total number of training epochs\n",
        "    per_device_train_batch_size=16,      # Batch size per device during training\n",
        "    per_device_eval_batch_size=32,       # Batch size per device during evaluation\n",
        "    warmup_steps=50,                     # Number of steps for the warmup phase of the learning rate scheduler\n",
        "    weight_decay=0.01,                   # Strength of weight decay\n",
        "    logging_steps=10,                    # Log training information every 10 steps\n",
        "    eval_strategy=\"steps\",               # Evaluate the model every `logging_steps`\n",
        "    eval_steps=50,                       # Evaluate the model every `evaluation steps`\n",
        "    load_best_model_at_end=True,         # Load the best model checkpoint at the end of training\n",
        "    metric_for_best_model=\"f1\",          # Metric to use to determine the best model\n",
        "    report_to=\"none\",                    # Do not report training progress to any external service\n",
        ")\n",
        "\n",
        "# Initialize the Trainer with the model, training arguments, datasets, and compute_metrics function\n",
        "trainer = Trainer(\n",
        "    model=model,\n",
        "    args=training_args,\n",
        "    train_dataset=tokenized, # Use the tokenized dataset for training\n",
        "    eval_dataset=tokenized,  # Use the tokenized dataset for evaluation (can be a separate validation set)\n",
        "    compute_metrics=compute_metrics,\n",
        ")\n",
        "\n",
        "# Start the training process\n",
        "trainer.train()"
      ],
      "execution_count": 54,
      "outputs": [
        {
          "output_type": "stream",
          "name": "stderr",
          "text": [
            "Some weights of BertForSequenceClassification were not initialized from the model checkpoint at bert-base-uncased and are newly initialized: ['classifier.bias', 'classifier.weight']\n",
            "You should probably TRAIN this model on a down-stream task to be able to use it for predictions and inference.\n"
          ]
        },
        {
          "output_type": "display_data",
          "data": {
            "text/plain": [
              "<IPython.core.display.HTML object>"
            ],
            "text/html": [
              "\n",
              "    <div>\n",
              "      \n",
              "      <progress value='39' max='39' style='width:300px; height:20px; vertical-align: middle;'></progress>\n",
              "      [39/39 00:29, Epoch 3/3]\n",
              "    </div>\n",
              "    <table border=\"1\" class=\"dataframe\">\n",
              "  <thead>\n",
              " <tr style=\"text-align: left;\">\n",
              "      <th>Step</th>\n",
              "      <th>Training Loss</th>\n",
              "      <th>Validation Loss</th>\n",
              "    </tr>\n",
              "  </thead>\n",
              "  <tbody>\n",
              "  </tbody>\n",
              "</table><p>"
            ]
          },
          "metadata": {}
        },
        {
          "output_type": "execute_result",
          "data": {
            "text/plain": [
              "TrainOutput(global_step=39, training_loss=0.5730665891598432, metrics={'train_runtime': 30.1338, 'train_samples_per_second': 19.911, 'train_steps_per_second': 1.294, 'total_flos': 39466658304000.0, 'train_loss': 0.5730665891598432, 'epoch': 3.0})"
            ]
          },
          "metadata": {},
          "execution_count": 54
        }
      ]
    },
    {
      "cell_type": "code",
      "source": [
        "# Evaluate the trained model on the evaluation dataset\n",
        "trainer.evaluate()"
      ],
      "metadata": {
        "colab": {
          "base_uri": "https://localhost:8080/",
          "height": 193
        },
        "id": "sl6_XswTTk2V",
        "outputId": "4f37ea82-d5b7-4cee-cfe0-72a4c47f64d0"
      },
      "execution_count": 55,
      "outputs": [
        {
          "output_type": "display_data",
          "data": {
            "text/plain": [
              "<IPython.core.display.HTML object>"
            ],
            "text/html": [
              "\n",
              "    <div>\n",
              "      \n",
              "      <progress value='7' max='7' style='width:300px; height:20px; vertical-align: middle;'></progress>\n",
              "      [7/7 00:01]\n",
              "    </div>\n",
              "    "
            ]
          },
          "metadata": {}
        },
        {
          "output_type": "execute_result",
          "data": {
            "text/plain": [
              "{'eval_loss': 0.21756450831890106,\n",
              " 'eval_accuracy': 0.985,\n",
              " 'eval_f1': 0.9849246231155779,\n",
              " 'eval_precision': 0.98989898989899,\n",
              " 'eval_recall': 0.98,\n",
              " 'eval_runtime': 1.5054,\n",
              " 'eval_samples_per_second': 132.856,\n",
              " 'eval_steps_per_second': 4.65,\n",
              " 'epoch': 3.0}"
            ]
          },
          "metadata": {},
          "execution_count": 55
        }
      ]
    },
    {
      "cell_type": "code",
      "metadata": {
        "colab": {
          "base_uri": "https://localhost:8080/",
          "height": 17
        },
        "id": "ceaee14d",
        "outputId": "20bef008-d08f-455c-bb4a-a9d2b790086c"
      },
      "source": [
        "import numpy as np\n",
        "\n",
        "# Make predictions on the tokenized dataset using the trained model\n",
        "predictions = trainer.predict(tokenized)\n",
        "\n",
        "# Extract the true labels from the predictions object\n",
        "true_labels = predictions.label_ids\n",
        "\n",
        "# Get the predicted labels by finding the index of the maximum logit for each prediction\n",
        "predicted_labels = np.argmax(predictions.predictions, axis=-1)"
      ],
      "execution_count": 56,
      "outputs": [
        {
          "output_type": "display_data",
          "data": {
            "text/plain": [
              "<IPython.core.display.HTML object>"
            ],
            "text/html": []
          },
          "metadata": {}
        }
      ]
    },
    {
      "cell_type": "code",
      "metadata": {
        "id": "5076a80b"
      },
      "source": [
        "from sklearn.metrics import confusion_matrix\n",
        "\n",
        "# Compute the confusion matrix using the true and predicted labels\n",
        "cm = confusion_matrix(true_labels, predicted_labels)"
      ],
      "execution_count": 57,
      "outputs": []
    },
    {
      "cell_type": "code",
      "metadata": {
        "colab": {
          "base_uri": "https://localhost:8080/",
          "height": 564
        },
        "id": "ceeea636",
        "outputId": "a68ffa45-a099-4c5b-cf3c-e27c75e6c225"
      },
      "source": [
        "import seaborn as sns\n",
        "import matplotlib.pyplot as plt\n",
        "\n",
        "# Create a figure for the heatmap\n",
        "plt.figure(figsize=(8, 6))\n",
        "\n",
        "# Create a heatmap of the confusion matrix\n",
        "# annot=True displays the values in the cells\n",
        "# fmt=\"d\" formats the annotations as integers\n",
        "# cmap=\"Blues\" sets the color map to blues\n",
        "sns.heatmap(cm, annot=True, fmt=\"d\", cmap=\"Blues\")\n",
        "\n",
        "# Set the x-axis label\n",
        "plt.xlabel(\"Predicted Label\")\n",
        "\n",
        "# Set the y-axis label\n",
        "plt.ylabel(\"True Label\")\n",
        "\n",
        "# Set the title of the plot\n",
        "plt.title(\"Confusion Matrix\")\n",
        "\n",
        "# Display the plot\n",
        "plt.show()"
      ],
      "execution_count": 58,
      "outputs": [
        {
          "output_type": "display_data",
          "data": {
            "text/plain": [
              "<Figure size 800x600 with 2 Axes>"
            ],
            "image/png": "[encoded data removed]"
          },
          "metadata": {}
        }
      ]
    },
    {
      "cell_type": "code",
      "metadata": {
        "colab": {
          "base_uri": "https://localhost:8080/"
        },
        "id": "0d7099e0",
        "outputId": "171e8333-63db-42aa-be5a-4efda134dc3a"
      },
      "source": [
        "import torch\n",
        "\n",
        "# Shuffle the original dataset and select the text from the first 3 examples\n",
        "sample_texts = hate.shuffle(seed=42).select(range(3))['text']\n",
        "\n",
        "# Define a dictionary to map class indices to human-readable labels\n",
        "label_map = {0: \"Not Hate Speech\", 1: \"Hate Speech\"}\n",
        "\n",
        "# Determine the device to use for inference (GPU if available, otherwise CPU)\n",
        "device = torch.device(\"cuda\" if torch.cuda.is_available() else \"cpu\")\n",
        "\n",
        "# Move the model to the selected device\n",
        "model.to(device)\n",
        "\n",
        "# Iterate through the sample texts\n",
        "for sample_text in sample_texts:\n",
        "    # Tokenize the sample text and convert it to PyTorch tensors\n",
        "    # Add padding and truncation to match the model's input requirements\n",
        "    inputs = tokenizer(sample_text, return_tensors=\"pt\", padding=\"max_length\", truncation=True, max_length=128)\n",
        "\n",
        "    # Move the input tensors to the selected device\n",
        "    inputs = {k: v.to(device) for k, v in inputs.items()}\n",
        "\n",
        "    # Perform inference without calculating gradients\n",
        "    with torch.no_grad():\n",
        "        # Pass the inputs through the model to get the outputs (logits)\n",
        "        outputs = model(**inputs)\n",
        "\n",
        "    # Get the predicted class by finding the index with the highest logit\n",
        "    predicted_class = torch.argmax(outputs.logits, dim=1).item()\n",
        "\n",
        "    # Get the human-readable label for the predicted class\n",
        "    predicted_label = label_map[predicted_class]\n",
        "\n",
        "    # Print the sample text, predicted class, and predicted label\n",
        "    print(f\"Sample Text: '{sample_text}'\")\n",
        "    print(f\"Predicted Class: {predicted_class}\")\n",
        "    print(f\"Predicted Label: {predicted_label}\\n\")"
      ],
      "execution_count": 59,
      "outputs": [
        {
          "output_type": "stream",
          "name": "stdout",
          "text": [
            "Sample Text: 'Also after sticking them on you can coat them in a flour/water mixture like they use for large posters and it dries see through and is damn near impossible to remove later .'\n",
            "Predicted Class: 0\n",
            "Predicted Label: Not Hate Speech\n",
            "\n",
            "Sample Text: 'She 'll smell of it for a while then it 'll be gone in a matter of seconds .'\n",
            "Predicted Class: 0\n",
            "Predicted Label: Not Hate Speech\n",
            "\n",
            "Sample Text: 'I miss Dr. Pierce very much !'\n",
            "Predicted Class: 0\n",
            "Predicted Label: Not Hate Speech\n",
            "\n"
          ]
        }
      ]
    },
    {
      "cell_type": "code",
      "source": [],
      "metadata": {
        "id": "yD7_iLTPVENe"
      },
      "execution_count": 59,
      "outputs": []
    }
  ]
}